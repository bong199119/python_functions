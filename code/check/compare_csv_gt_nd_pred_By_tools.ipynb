{
 "cells": [
  {
   "cell_type": "code",
   "execution_count": 100,
   "metadata": {
    "executionInfo": {
     "elapsed": 272,
     "status": "ok",
     "timestamp": 1672975115694,
     "user": {
      "displayName": "서봉석",
      "userId": "07434805004264588221"
     },
     "user_tz": -540
    },
    "id": "IU3BKr-7Fc6n"
   },
   "outputs": [],
   "source": [
    "import os\n",
    "import pandas as pd\n",
    "import numpy as np\n",
    "import time"
   ]
  },
  {
   "cell_type": "code",
   "execution_count": 101,
   "metadata": {},
   "outputs": [],
   "source": [
    "def make_TFNP_tools(df_gt, df_pred):    \n",
    "    df_gt = df_gt.drop(labels=['Frame_No.'], axis = 1)\n",
    "    if 'PC_All' in df_gt.keys():\n",
    "        df_gt = df_gt.drop(labels=['PC_All'], axis = 1)\n",
    "    \n",
    "    dict_TFNP = {} \n",
    "    for column in df_gt.columns:\n",
    "        if column != 'phase':   \n",
    "            if column in df_pred.columns:\n",
    "                for a in range(len(df_gt[column])):\n",
    "                    if column not in dict_TFNP:\n",
    "                        dict_TFNP[column] = {'TP' : 0, 'TN' : 0, 'FP' : 0, 'FN' : 0}\n",
    "\n",
    "                        if df_gt[column][a] == 1 and  df_pred[column][a] == 1:\n",
    "                            dict_TFNP[column]['TP'] = dict_TFNP[column]['TP'] + 1\n",
    "\n",
    "                        elif df_gt[column][a] == 1 and df_pred[column][a] == 0:\n",
    "                            dict_TFNP[column]['FN'] = dict_TFNP[column]['FN'] + 1\n",
    "\n",
    "                        elif df_gt[column][a] == 0 and df_pred[column][a] == 1:\n",
    "                            dict_TFNP[column]['FP'] = dict_TFNP[column]['FP'] + 1\n",
    "\n",
    "                        elif df_gt[column][a] == 0 and df_pred[column][a] == 0:\n",
    "                            dict_TFNP[column]['TN'] = dict_TFNP[column]['TN'] + 1\n",
    "\n",
    "                    else:\n",
    "                        if df_gt[column][a] == 1 and  df_pred[column][a] == 1:\n",
    "                            dict_TFNP[column]['TP'] = dict_TFNP[column]['TP'] + 1\n",
    "\n",
    "                        elif df_gt[column][a] == 1 and df_pred[column][a] == 0:\n",
    "                            dict_TFNP[column]['FN'] = dict_TFNP[column]['FN'] + 1\n",
    "\n",
    "                        elif df_gt[column][a] == 0 and df_pred[column][a] == 1:\n",
    "                            dict_TFNP[column]['FP'] = dict_TFNP[column]['FP'] + 1\n",
    "\n",
    "                        elif df_gt[column][a] == 0 and df_pred[column][a] == 0:\n",
    "                            dict_TFNP[column]['TN'] = dict_TFNP[column]['TN'] + 1\n",
    "\n",
    "    return dict_TFNP"
   ]
  },
  {
   "cell_type": "code",
   "execution_count": 102,
   "metadata": {},
   "outputs": [],
   "source": [
    "def make_tool_matrix(df_gt, df_pred, gt):\n",
    "    dict_TFNP_tools = make_TFNP_tools(df_gt, df_pred)\n",
    "    \n",
    "    list_precision = []\n",
    "    list_acc = []\n",
    "    list_recall = []\n",
    "    df_temp_tools = pd.DataFrame(columns = ['tools', 'acc', 'precision','recall'])\n",
    "    for column in dict_TFNP_tools:\n",
    "        print(column, dict_TFNP_tools[column])\n",
    "        acc = round((dict_TFNP_tools[column]['TP']+dict_TFNP_tools[column]['TN'])/(dict_TFNP_tools[column]['TP']+dict_TFNP_tools[column]['FP']+dict_TFNP_tools[column]['TN']+dict_TFNP_tools[column]['FN']),2)\n",
    "        if (dict_TFNP_tools[column]['TP']+dict_TFNP_tools[column]['FP']) != 0:\n",
    "            precision = round((dict_TFNP_tools[column]['TP'])/(dict_TFNP_tools[column]['TP']+dict_TFNP_tools[column]['FP']),2)\n",
    "        else:\n",
    "            precision = ''\n",
    "        if (dict_TFNP_tools[column]['TP']+dict_TFNP_tools[column]['FN']) != 0:\n",
    "            recall = round((dict_TFNP_tools[column]['TP'])/(dict_TFNP_tools[column]['TP']+dict_TFNP_tools[column]['FN']),2)\n",
    "        else:\n",
    "            recall = ''\n",
    "        \n",
    "        print([column, acc, precision, recall])\n",
    "        TP = dict_TFNP_tools[column]['TP']\n",
    "        TN = dict_TFNP_tools[column]['TN']\n",
    "        FP = dict_TFNP_tools[column]['FP']\n",
    "        FN = dict_TFNP_tools[column]['FN']\n",
    "        \n",
    "        df_column = pd.DataFrame([[column, TP, TN, FP, FN, acc, precision, recall]], columns = ['tools','TP','TN','FP','FN', 'acc', 'precision','recall'])\n",
    "        df_temp_tools = df_temp_tools.append(df_column)\n",
    "\n",
    "    return df_temp_tools"
   ]
  },
  {
   "cell_type": "code",
   "execution_count": null,
   "metadata": {
    "colab": {
     "base_uri": "https://localhost:8080/",
     "height": 647
    },
    "executionInfo": {
     "elapsed": 803,
     "status": "ok",
     "timestamp": 1672975122085,
     "user": {
      "displayName": "서봉석",
      "userId": "07434805004264588221"
     },
     "user_tz": -540
    },
    "id": "1zvOeWrLFc9H",
    "outputId": "c8d8b951-9d6d-4b25-f6c8-78387d2a1665",
    "scrolled": true
   },
   "outputs": [],
   "source": [
    "path_root = r'' # gt, pred 폴더를 담은 상위 폴더\n",
    "path_gt_folder = os.path.join(path_root, 'gt')\n",
    "list_path_pred_folder = [path_ for path_ in os.listdir(path_root) if path_[:len('pred_winsize')] == 'pred_winsize']\n",
    "list_gt = os.listdir(path_gt_folder)\n",
    "\n",
    "df_compare = pd.DataFrame()\n",
    "df_compare_tools = pd.DataFrame()\n",
    "for gt in list_gt:\n",
    "    print(gt)\n",
    "    path_gt = os.path.join(path_gt_folder, gt)\n",
    "    df_gt = pd.read_csv(path_gt, encoding='cp949')\n",
    "    for pred_folder in list_path_pred_folder:\n",
    "        path_pred_folder = os.path.join(path_root, pred_folder)\n",
    "        list_pred_file = os.listdir(path_pred_folder)\n",
    "        for pred_file in list_pred_file:\n",
    "            path_pred_file = os.path.join(path_pred_folder, pred_file)\n",
    "            if pred_file[:24] == gt[:24]:\n",
    "                df_pred = pd.read_csv(path_pred_file, encoding='cp949')\n",
    "                df_temp_tools = make_tool_matrix(df_gt, df_pred, gt)\n",
    "                df_temp_tools.insert(0, 'winsize',[int(pred_folder[len('pred_winsize'):])]*len(df_temp_tools))\n",
    "                df_temp_tools.insert(0, 'video',[gt]*len(df_temp_tools))\n",
    "\n",
    "                df_compare_tools = df_compare_tools.append(df_temp_tools)"
   ]
  },
  {
   "cell_type": "code",
   "execution_count": null,
   "metadata": {
    "scrolled": false
   },
   "outputs": [],
   "source": [
    "df_compare_tools_origin = df_compare_tools\n",
    "df_compare_tools_sorted = df_compare_tools.sort_values(['video', 'tools','winsize'],ascending = [True, True, True])\n",
    "df_compare_tools_sorted"
   ]
  },
  {
   "cell_type": "code",
   "execution_count": 106,
   "metadata": {},
   "outputs": [],
   "source": [
    "# 도구 전체 테이블 저장\n",
    "# 컬럼 : video, winsize, tools, acc, precision, recall, TP, TN, FP, FN\n",
    "path = r''\n",
    "name = r''\n",
    "path_save_excel = os.path.join(path, name)\n",
    "df_compare_tools_sorted.to_excel(path_save_excel)"
   ]
  },
  {
   "cell_type": "code",
   "execution_count": null,
   "metadata": {},
   "outputs": [],
   "source": [
    "# 도구 종합 metrix 테이블 제작\n",
    "df_tool_totalMetrix = pd.DataFrame()\n",
    "for winsize in df_compare_tools_origin['winsize'].unique():\n",
    "    for tool in df_compare_tools_origin['tools'].unique():\n",
    "        df_winsize_tool = df_compare_tools_origin[(df_compare_tools_origin['winsize'] == winsize) & (df_compare_tools_origin['tools'] == tool)]\n",
    "        print(df_winsize_tool)\n",
    "        TP_total = df_winsize_tool['TP'].sum()\n",
    "        TN_total = df_winsize_tool['TN'].sum()\n",
    "        FP_total = df_winsize_tool['FP'].sum()\n",
    "        FN_total = df_winsize_tool['FN'].sum()\n",
    "        \n",
    "        acc = round((TP_total+TN_total)/(TP_total+FP_total+TN_total+FN_total),2)\n",
    "        if (TP_total+FP_total) != 0:\n",
    "            precision = round((TP_total)/(TP_total+FP_total),2)\n",
    "        else:\n",
    "            precision = ''\n",
    "        if (TP_total+FN_total) != 0:\n",
    "            recall = round((TP_total)/(TP_total+FN_total),2)\n",
    "        else:\n",
    "            recall = ''\n",
    "        \n",
    "        df_winsize_tool_tmp = pd.DataFrame([[winsize, tool, TP_total, TN_total, FP_total, FN_total, acc, precision, recall]], columns = ['winsize','tools','TP','TN','FP','FN', 'acc', 'precision','recall'])\n",
    "\n",
    "        df_tool_totalMetrix = df_tool_totalMetrix.append(df_winsize_tool_tmp)"
   ]
  },
  {
   "cell_type": "code",
   "execution_count": 109,
   "metadata": {
    "scrolled": true
   },
   "outputs": [],
   "source": [
    "df_tool_totalMetrix_bywinsize = df_tool_totalMetrix.sort_values(['winsize'],ascending = [True])\n",
    "df_tool_totalMetrix_bytools = df_tool_totalMetrix.sort_values(['tools', 'winsize'],ascending = [True, True])"
   ]
  },
  {
   "cell_type": "code",
   "execution_count": 110,
   "metadata": {},
   "outputs": [],
   "source": [
    "# 도구 종합 metrix 테이블 저장\n",
    "# 컬럼 : winsize, tools, acc, precision, recall, TP, TN, FP, FN\n",
    "path = r''\n",
    "dataset_name = ''\n",
    "name_bytools = rf'{dataset_name}_bytools.xlsx'\n",
    "name_bywinsize = rf'{dataset_name}_bywinsize.xlsx'\n",
    "path_save_excel_bywinsize = os.path.join(path, name_bywinsize)\n",
    "path_save_excel_bytools = os.path.join(path, name_bytools)\n",
    "df_tool_totalMetrix_bywinsize.to_excel(path_save_excel_bywinsize)\n",
    "df_tool_totalMetrix_bytools.to_excel(path_save_excel_bytools)"
   ]
  }
 ],
 "metadata": {
  "colab": {
   "authorship_tag": "ABX9TyMgasDp3yixg8fZt54y/Pi3",
   "provenance": []
  },
  "kernelspec": {
   "display_name": "Python 3",
   "language": "python",
   "name": "python3"
  },
  "language_info": {
   "codemirror_mode": {
    "name": "ipython",
    "version": 3
   },
   "file_extension": ".py",
   "mimetype": "text/x-python",
   "name": "python",
   "nbconvert_exporter": "python",
   "pygments_lexer": "ipython3",
   "version": "3.8.8"
  }
 },
 "nbformat": 4,
 "nbformat_minor": 1
}
