{
 "cells": [
  {
   "cell_type": "code",
   "execution_count": 1,
   "metadata": {
    "executionInfo": {
     "elapsed": 272,
     "status": "ok",
     "timestamp": 1672975115694,
     "user": {
      "displayName": "서봉석",
      "userId": "07434805004264588221"
     },
     "user_tz": -540
    },
    "id": "IU3BKr-7Fc6n"
   },
   "outputs": [],
   "source": [
    "import os\n",
    "import pandas as pd\n",
    "import numpy as np\n",
    "import time"
   ]
  },
  {
   "cell_type": "code",
   "execution_count": null,
   "metadata": {},
   "outputs": [],
   "source": [
    "# pred파일의 마지막 프레임이 잘려있는 경우가 있음\n",
    "# 길이차이 확인\n",
    "\n",
    "path_folder_gt = r'' # gt 파일이 들어있는 folder\n",
    "path_folder_pred = r'' # pred 파일이 들어있는 folder\n",
    "\n",
    "list_gt = os.listdir(path_folder_gt)\n",
    "list_pred = os.listdir(path_folder_pred)\n",
    "\n",
    "\n",
    "for gt_file in list_gt:\n",
    "    path_gt_file = os.path.join(path_folder_gt, gt_file)\n",
    "    for pred_file in list_pred:\n",
    "        if pred_file[:-4] == gt_file[:len(pred_file[:-4])]:\n",
    "            path_pred_file = os.path.join(path_folder_pred, pred_file)\n",
    "            try:\n",
    "                gt_load = pd.read_csv(path_gt_file, encoding='cp949')\n",
    "            except:\n",
    "                gt_load = pd.read_csv(path_gt_file)\n",
    "            try:\n",
    "                pred_load = pd.read_csv(path_pred_file, encoding='cp949')\n",
    "            except:\n",
    "                pred_load = pd.read_csv(path_pred_file)\n",
    "            print(gt_file[:-4], 'gt len : ',len(gt_load) , 'pred len : ', len(pred_load))"
   ]
  },
  {
   "cell_type": "code",
   "execution_count": 3,
   "metadata": {},
   "outputs": [],
   "source": [
    "# pred파일의 마지막 프레임이 잘려있는 경우가 있음\n",
    "# 짧은쪽으로길이 맞추기\n",
    "\n",
    "list_gt = os.listdir(path_folder_gt)\n",
    "list_pred = os.listdir(path_folder_pred)\n",
    "\n",
    "for gt_file in list_gt:\n",
    "    path_gt_file = os.path.join(path_folder_gt, gt_file)\n",
    "    for pred_file in list_pred:\n",
    "        if pred_file[:-4] == gt_file[:len(pred_file[:-4])]:\n",
    "            path_pred_file = os.path.join(path_folder_pred, pred_file)\n",
    "            \n",
    "            try:\n",
    "                gt_load = pd.read_csv(path_gt_file, encoding='cp949')\n",
    "            except:\n",
    "                gt_load = pd.read_csv(path_gt_file)\n",
    "            try:\n",
    "                pred_load = pd.read_csv(path_pred_file, encoding='cp949')\n",
    "            except:\n",
    "                pred_load = pd.read_csv(path_pred_file)\n",
    "                \n",
    "            if len(gt_load) > len(pred_load):\n",
    "                gt_load = gt_load.iloc[:len(pred_load)]\n",
    "                gt_load.to_csv(path_gt_file, index = False, encoding='cp949')\n",
    "            elif len(gt_load) < len(pred_load):\n",
    "                pred_load = pred_load.iloc[:len(gt_load)]\n",
    "                pred_load.to_csv(path_pred_file, index = False, encoding='cp949')                "
   ]
  }
 ],
 "metadata": {
  "colab": {
   "authorship_tag": "ABX9TyMgasDp3yixg8fZt54y/Pi3",
   "provenance": []
  },
  "kernelspec": {
   "display_name": "Python 3",
   "language": "python",
   "name": "python3"
  },
  "language_info": {
   "codemirror_mode": {
    "name": "ipython",
    "version": 3
   },
   "file_extension": ".py",
   "mimetype": "text/x-python",
   "name": "python",
   "nbconvert_exporter": "python",
   "pygments_lexer": "ipython3",
   "version": "3.8.8"
  }
 },
 "nbformat": 4,
 "nbformat_minor": 1
}
