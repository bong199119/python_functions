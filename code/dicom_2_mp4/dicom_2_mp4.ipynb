{
 "cells": [
  {
   "cell_type": "code",
   "execution_count": 1,
   "id": "c2c9e589",
   "metadata": {},
   "outputs": [],
   "source": [
    "import os\n",
    "import pydicom\n",
    "from pydicom.encaps import generate_pixel_data_frame"
   ]
  },
  {
   "cell_type": "code",
   "execution_count": 6,
   "id": "32fca06b",
   "metadata": {},
   "outputs": [],
   "source": [
    "path = r'D:\\project\\VFSS\\data\\20230106\\20230106\\02049842\\02049842202301050013.4750.1.2.dcm'\n",
    "path_video_folder = r'D:\\project\\VFSS\\data\\20230106\\20230106'"
   ]
  },
  {
   "cell_type": "code",
   "execution_count": 3,
   "id": "e7ced2c0",
   "metadata": {},
   "outputs": [],
   "source": [
    "ds = pydicom.dcmread(path)"
   ]
  },
  {
   "cell_type": "code",
   "execution_count": 5,
   "id": "56bbd243",
   "metadata": {},
   "outputs": [
    {
     "data": {
      "text/plain": [
       "'1.2.840.10008.1.2.4.100'"
      ]
     },
     "execution_count": 5,
     "metadata": {},
     "output_type": "execute_result"
    }
   ],
   "source": [
    "from pydicom import dcmread\n",
    "ds = dcmread(path)\n",
    "ds.file_meta.TransferSyntaxUID\n",
    "# 1.2.840.10008.1.2.4.100\tMPEG2 Main Profile Main Level"
   ]
  },
  {
   "cell_type": "code",
   "execution_count": 14,
   "id": "9264e3d4",
   "metadata": {},
   "outputs": [],
   "source": [
    "list_folder_video = os.listdir(path_video_folder)\n",
    "for folder_video in list_folder_video:\n",
    "    path_folder_video = os.path.join(path_video_folder, folder_video)\n",
    "    list_video = os.listdir(path_folder_video)\n",
    "    for video_ in list_video:\n",
    "        path_video = os.path.join(path_folder_video, video_)\n",
    "        path_video_decoded = path_video[:-3] + 'mp4'\n",
    "        ds = pydicom.dcmread(path_video)\n",
    "        with open(path_video_decoded, 'wb') as f:\n",
    "            f.write(next(generate_pixel_data_frame(ds.PixelData)))        "
   ]
  },
  {
   "cell_type": "code",
   "execution_count": 12,
   "id": "d441e29a",
   "metadata": {},
   "outputs": [],
   "source": [
    "from pydicom.encaps import generate_pixel_data_frame\n",
    "ds = pydicom.dcmread(path)\n",
    "with open('00175248202301040004.3125.1.1.mp4', 'wb') as f:\n",
    "    f.write(next(generate_pixel_data_frame(ds.PixelData)))"
   ]
  },
  {
   "cell_type": "code",
   "execution_count": null,
   "id": "5473fcc4",
   "metadata": {},
   "outputs": [],
   "source": []
  },
  {
   "cell_type": "code",
   "execution_count": null,
   "id": "015f4937",
   "metadata": {},
   "outputs": [],
   "source": []
  }
 ],
 "metadata": {
  "kernelspec": {
   "display_name": "Python 3 (ipykernel)",
   "language": "python",
   "name": "python3"
  },
  "language_info": {
   "codemirror_mode": {
    "name": "ipython",
    "version": 3
   },
   "file_extension": ".py",
   "mimetype": "text/x-python",
   "name": "python",
   "nbconvert_exporter": "python",
   "pygments_lexer": "ipython3",
   "version": "3.7.0"
  }
 },
 "nbformat": 4,
 "nbformat_minor": 5
}
